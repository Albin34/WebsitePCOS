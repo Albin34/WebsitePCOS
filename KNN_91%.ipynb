{
 "cells": [
  {
   "cell_type": "code",
   "execution_count": 4,
   "id": "080e979f",
   "metadata": {},
   "outputs": [],
   "source": [
    "import pandas as pd\n",
    "import numpy as np\n"
   ]
  },
  {
   "cell_type": "code",
   "execution_count": 5,
   "id": "8a6ce317",
   "metadata": {},
   "outputs": [],
   "source": [
    "df= pd.read_csv(\"data_use.csv\")"
   ]
  },
  {
   "cell_type": "code",
   "execution_count": 6,
   "id": "405b9f36",
   "metadata": {},
   "outputs": [],
   "source": [
    "y = df.iloc[:, 0]"
   ]
  },
  {
   "cell_type": "code",
   "execution_count": 7,
   "id": "dd12e29b",
   "metadata": {},
   "outputs": [],
   "source": [
    "X = df.iloc[:, 1:]"
   ]
  },
  {
   "cell_type": "code",
   "execution_count": 8,
   "id": "49f8e3a8",
   "metadata": {},
   "outputs": [],
   "source": [
    "from sklearn.model_selection import train_test_split\n",
    "X_train, X_test, y_train, y_test = train_test_split(X, y, test_size=0.25, random_state=0)"
   ]
  },
  {
   "cell_type": "code",
   "execution_count": 11,
   "id": "c067e2d9",
   "metadata": {},
   "outputs": [
    {
     "name": "stdout",
     "output_type": "stream",
     "text": [
      "KNN Model Accuracy: 0.91\n"
     ]
    }
   ],
   "source": [
    "from sklearn.neighbors import KNeighborsClassifier\n",
    "\n",
    "# Define the KNN model\n",
    "knn_model = KNeighborsClassifier(n_neighbors=9, metric='manhattan')\n",
    "\n",
    "# Train the KNN model on the training data\n",
    "knn_model.fit(X_train, y_train)\n",
    "#----------------------------------------------------------------------------------------------------------------------------\n",
    "# Predict the labels for the test data\n",
    "y_pred = knn_model.predict(X_test)\n",
    "from sklearn.metrics import accuracy_score\n",
    "# Evaluate and print the accuracy of the KNN model\n",
    "accuracy = accuracy_score(y_test, y_pred)\n",
    "print(f\"KNN Model Accuracy: {accuracy:.2f}\")\n"
   ]
  },
  {
   "cell_type": "code",
   "execution_count": 12,
   "id": "219a4061",
   "metadata": {},
   "outputs": [],
   "source": [
    "import pickle\n",
    "filename = 'savedmodel.sav'\n",
    "pickle.dump(knn_model, open(filename, 'wb'))"
   ]
  },
  {
   "cell_type": "code",
   "execution_count": 13,
   "id": "c9c28664",
   "metadata": {},
   "outputs": [],
   "source": [
    "load_model = pickle.load(open(filename,'rb'))"
   ]
  },
  {
   "cell_type": "code",
   "execution_count": 16,
   "id": "8210776a",
   "metadata": {},
   "outputs": [
    {
     "name": "stderr",
     "output_type": "stream",
     "text": [
      "C:\\Users\\ARDRA NAIR\\anaconda3\\Lib\\site-packages\\sklearn\\base.py:464: UserWarning: X does not have valid feature names, but KNeighborsClassifier was fitted with feature names\n",
      "  warnings.warn(\n"
     ]
    },
    {
     "data": {
      "text/plain": [
       "array([0], dtype=int64)"
      ]
     },
     "execution_count": 16,
     "metadata": {},
     "output_type": "execute_result"
    }
   ],
   "source": [
    "load_model.predict([[0.5,0.22,0.44,0.4,0.45,0.26,0,0,1,0,0,1,0.0,0.25]])"
   ]
  },
  {
   "cell_type": "code",
   "execution_count": 15,
   "id": "5df5c149",
   "metadata": {},
   "outputs": [
    {
     "data": {
      "text/html": [
       "<div>\n",
       "<style scoped>\n",
       "    .dataframe tbody tr th:only-of-type {\n",
       "        vertical-align: middle;\n",
       "    }\n",
       "\n",
       "    .dataframe tbody tr th {\n",
       "        vertical-align: top;\n",
       "    }\n",
       "\n",
       "    .dataframe thead th {\n",
       "        text-align: right;\n",
       "    }\n",
       "</style>\n",
       "<table border=\"1\" class=\"dataframe\">\n",
       "  <thead>\n",
       "    <tr style=\"text-align: right;\">\n",
       "      <th></th>\n",
       "      <th>Age (yrs)</th>\n",
       "      <th>Weight (Kg)</th>\n",
       "      <th>Height(Cm)</th>\n",
       "      <th>Cycle length(days)</th>\n",
       "      <th>Weight gain(Y/N)</th>\n",
       "      <th>Hair loss(Y/N)</th>\n",
       "      <th>Pimples(Y/N)</th>\n",
       "      <th>Reg.Exercise(Y/N)</th>\n",
       "      <th>Fast food (Y/N)</th>\n",
       "      <th>hair growth(Y/N)</th>\n",
       "      <th>Skin darkening (Y/N)</th>\n",
       "      <th>Waist(inch)</th>\n",
       "      <th>Hip(inch)</th>\n",
       "      <th>BMI</th>\n",
       "    </tr>\n",
       "  </thead>\n",
       "  <tbody>\n",
       "    <tr>\n",
       "      <th>638</th>\n",
       "      <td>0.214286</td>\n",
       "      <td>0.636364</td>\n",
       "      <td>0.570791</td>\n",
       "      <td>0.416667</td>\n",
       "      <td>1.000000</td>\n",
       "      <td>0.869565</td>\n",
       "      <td>0</td>\n",
       "      <td>0</td>\n",
       "      <td>0</td>\n",
       "      <td>0</td>\n",
       "      <td>0</td>\n",
       "      <td>0.0</td>\n",
       "      <td>0.0</td>\n",
       "      <td>0.688658</td>\n",
       "    </tr>\n",
       "    <tr>\n",
       "      <th>165</th>\n",
       "      <td>0.214286</td>\n",
       "      <td>0.571429</td>\n",
       "      <td>0.488372</td>\n",
       "      <td>0.416667</td>\n",
       "      <td>0.863636</td>\n",
       "      <td>0.695652</td>\n",
       "      <td>0</td>\n",
       "      <td>0</td>\n",
       "      <td>0</td>\n",
       "      <td>0</td>\n",
       "      <td>0</td>\n",
       "      <td>0.0</td>\n",
       "      <td>0.0</td>\n",
       "      <td>0.665540</td>\n",
       "    </tr>\n",
       "    <tr>\n",
       "      <th>468</th>\n",
       "      <td>0.535714</td>\n",
       "      <td>0.220779</td>\n",
       "      <td>0.488372</td>\n",
       "      <td>0.416667</td>\n",
       "      <td>0.454545</td>\n",
       "      <td>0.260870</td>\n",
       "      <td>0</td>\n",
       "      <td>0</td>\n",
       "      <td>1</td>\n",
       "      <td>0</td>\n",
       "      <td>0</td>\n",
       "      <td>1.0</td>\n",
       "      <td>0.0</td>\n",
       "      <td>0.257140</td>\n",
       "    </tr>\n",
       "    <tr>\n",
       "      <th>312</th>\n",
       "      <td>0.428571</td>\n",
       "      <td>0.376623</td>\n",
       "      <td>0.186047</td>\n",
       "      <td>0.416667</td>\n",
       "      <td>0.500000</td>\n",
       "      <td>0.434783</td>\n",
       "      <td>1</td>\n",
       "      <td>0</td>\n",
       "      <td>0</td>\n",
       "      <td>1</td>\n",
       "      <td>1</td>\n",
       "      <td>0.0</td>\n",
       "      <td>0.0</td>\n",
       "      <td>0.608680</td>\n",
       "    </tr>\n",
       "    <tr>\n",
       "      <th>433</th>\n",
       "      <td>0.321429</td>\n",
       "      <td>0.285714</td>\n",
       "      <td>0.558140</td>\n",
       "      <td>0.500000</td>\n",
       "      <td>0.545455</td>\n",
       "      <td>0.478261</td>\n",
       "      <td>0</td>\n",
       "      <td>0</td>\n",
       "      <td>0</td>\n",
       "      <td>1</td>\n",
       "      <td>1</td>\n",
       "      <td>1.0</td>\n",
       "      <td>0.0</td>\n",
       "      <td>0.303172</td>\n",
       "    </tr>\n",
       "  </tbody>\n",
       "</table>\n",
       "</div>"
      ],
      "text/plain": [
       "     Age (yrs)  Weight (Kg)  Height(Cm)  Cycle length(days)  Weight gain(Y/N)  \\\n",
       "638   0.214286     0.636364    0.570791            0.416667          1.000000   \n",
       "165   0.214286     0.571429    0.488372            0.416667          0.863636   \n",
       "468   0.535714     0.220779    0.488372            0.416667          0.454545   \n",
       "312   0.428571     0.376623    0.186047            0.416667          0.500000   \n",
       "433   0.321429     0.285714    0.558140            0.500000          0.545455   \n",
       "\n",
       "     Hair loss(Y/N)  Pimples(Y/N)  Reg.Exercise(Y/N)  Fast food (Y/N)  \\\n",
       "638        0.869565             0                  0                0   \n",
       "165        0.695652             0                  0                0   \n",
       "468        0.260870             0                  0                1   \n",
       "312        0.434783             1                  0                0   \n",
       "433        0.478261             0                  0                0   \n",
       "\n",
       "     hair growth(Y/N)  Skin darkening (Y/N)  Waist(inch)  Hip(inch)       BMI  \n",
       "638                 0                     0          0.0        0.0  0.688658  \n",
       "165                 0                     0          0.0        0.0  0.665540  \n",
       "468                 0                     0          1.0        0.0  0.257140  \n",
       "312                 1                     1          0.0        0.0  0.608680  \n",
       "433                 1                     1          1.0        0.0  0.303172  "
      ]
     },
     "execution_count": 15,
     "metadata": {},
     "output_type": "execute_result"
    }
   ],
   "source": [
    "X_test.head()"
   ]
  },
  {
   "cell_type": "code",
   "execution_count": null,
   "id": "51698947",
   "metadata": {},
   "outputs": [],
   "source": []
  }
 ],
 "metadata": {
  "kernelspec": {
   "display_name": "Python 3 (ipykernel)",
   "language": "python",
   "name": "python3"
  },
  "language_info": {
   "codemirror_mode": {
    "name": "ipython",
    "version": 3
   },
   "file_extension": ".py",
   "mimetype": "text/x-python",
   "name": "python",
   "nbconvert_exporter": "python",
   "pygments_lexer": "ipython3",
   "version": "3.11.5"
  }
 },
 "nbformat": 4,
 "nbformat_minor": 5
}
